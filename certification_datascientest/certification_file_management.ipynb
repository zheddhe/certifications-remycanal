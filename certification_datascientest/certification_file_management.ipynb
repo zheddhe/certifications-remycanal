{
 "cells": [
  {
   "cell_type": "code",
   "execution_count": null,
   "id": "528d58ee",
   "metadata": {},
   "outputs": [
    {
     "name": "stdout",
     "output_type": "stream",
     "text": [
      "Renaming: 2025_03_31_Le Data Product Manager.pdf → 2025-03-31_data_product_manager.pdf\n",
      "Renaming: 2025_04_01_Fondamentaux de la data architecture.pdf → 2025-04-01_data_architecture_fundamentals.pdf\n",
      "Renaming: 2025_04_01_Introduction à la data en entreprise.pdf → 2025-04-01_intro_data_in_business.pdf\n",
      "Renaming: 2025_04_02_Les différents usages de la donnée.pdf → 2025-04-02_data_use_cases.pdf\n",
      "Renaming: 2025_04_03_Fondamentaux Python.pdf → 2025-04-03_python_fundamentals.pdf\n",
      "Renaming: 2025_04_04_202 DPM - Méthode AGILE.pdf → 2025-04-04_agile_methodology.pdf\n",
      "Renaming: 2025_04_04_DPM 201 Gestion de projet.pdf → 2025-04-04_project_management_for_data_product.pdf\n",
      "Renaming: 2025_04_07_RGPD, Ethique de l'IA et AI Act.pdf → 2025-04-07_ethics_ai_rgpd_ai_act.pdf\n",
      "Renaming: 2025_04_09_Manipulation de données avec Pandas.pdf → 2025-04-09_data_manipulation_with_pandas.pdf\n",
      "Renaming: 2025_04_15_Exploratory Statistics with Python.pdf → 2025-04-15_exploratory_statistics_with_python.pdf\n",
      "Renaming: 2025_04_15_Python for Data Science.pdf → 2025-04-15_python_for_data_science.pdf\n",
      "Renaming: 2025_04_23_Data Quality.pdf → 2025-04-23_data_quality.pdf\n",
      "Renaming: 2025_04_23_Programmation orientée objet (FR).pdf → 2025-04-23_object_oriented_programming.pdf\n",
      "Renaming: 2025_05_09_Bash and Linux.pdf → 2025-05-09_bash_and_linux.pdf\n",
      "Renaming: 2025_05_09_Data Visualization with Matplotlib.pdf → 2025-05-09_dataviz_with_matplotlib.pdf\n",
      "Renaming: 2025_05_13_Data Visualization with Seaborn.pdf → 2025-05-13_dataviz_with_seaborn.pdf\n",
      "Renaming: 2025_05_13_Matplotlib Complements.pdf → 2025-05-13_matplotlib_complements.pdf\n",
      "Renaming: 2025_05_15_Dataviz with Plotly.pdf → 2025-05-15_dataviz_with_plotly.pdf\n",
      "Renaming: 2025_05_20_First steps on the virtual machine.pdf → 2025-05-20_first_steps_on_virtual_machine.pdf\n",
      "Renaming: 2025_05_21_exam_bokeh_python.pdf → 2025-05-21_dataviz_with_bokeh.pdf\n",
      "Renaming: 2025_05_21_Unit Testing.pdf → 2025-05-21_unit_testing.pdf\n",
      "Renaming: 2025_05_30_Classification with scikit-learn.pdf → 2025-05-30_classification_with_scikit_learn.pdf\n",
      "Renaming: 2025_06_01_Methodology in Data Science.pdf → 2025-06-01_data_science_methodology.pdf\n",
      "Renaming: 2025_06_02_Clustering with scikit-learn.pdf → 2025-06-02_clustering_with_scikit_learn.pdf\n",
      "Renaming: 2025_06_02_Feature Engineering & Optimisation.pdf → 2025-06-02_feature_engineering_and_optimisation.pdf\n",
      "Renaming: 2025_06_02_Regression with scikit-learn.pdf → 2025-06-02_regression_with_scikit_learn.pdf\n",
      "Renaming: 2025_06_10_Advanced Classification with scikit-learn.pdf → 2025-06-10_advanced_classification_with_scikit_learn.pdf\n",
      "Renaming: 2025_06_14_Recommender Systems.pdf → 2025-06-14_recommender_systems.pdf\n",
      "Renaming: 2025_06_16_Pipeline.pdf → 2025-06-16_pipeline.pdf\n",
      "Renaming: 2025_06_18_Time Series Analysis with Python.pdf → 2025-06-18_time_series_analysis_with_python.pdf\n",
      "Renaming: 2025_06_22_Computer Vision with OpenCV.pdf → 2025-06-22_computer_vision_with_opencv.pdf\n",
      "Renaming: 2025_06_23_Dimensionality Reduction with scikit-learn.pdf → 2025-06-23_dimensionality_reduction_with_scikit_learn.pdf\n",
      "Renaming: 2025_06_24_Anomaly Detection.pdf → 2025-06-24_anomaly_detection.pdf\n",
      "Renaming: 2025_06_27_Dense Neural Networks with Keras.pdf → 2025-06-27_dense_neural_networks_with_keras.pdf\n"
     ]
    }
   ],
   "source": [
    "import os\n",
    "import re\n",
    "import unicodedata\n",
    "\n",
    "# Répertoire contenant les fichiers\n",
    "FOLDER = r\"C:\\Users\\remyc\\Downloads\"\n",
    "\n",
    "# Remplacements manuels pour normaliser les titres en anglais\n",
    "MANUAL_RENAMES = {\n",
    "    \"orig_file_name\": \"target_file_name\",\n",
    "}\n",
    "\n",
    "def slugify(text):\n",
    "    text = unicodedata.normalize('NFD', text).encode('ascii', 'ignore').decode('utf-8')\n",
    "    text = text.lower().strip()\n",
    "    text = re.sub(r\"[^\\w\\s-]\", '', text)\n",
    "    return re.sub(r\"[\\s\\-]+\", '_', text)\n",
    "\n",
    "# Lister tous les fichiers PDF ciblés\n",
    "for filename in os.listdir(FOLDER):\n",
    "    if filename.lower().endswith(\".pdf\") and re.match(r\"\\d{4}_\\d{2}_\\d{2}_\", filename):\n",
    "        date_part = filename[:10].replace(\"_\", \"-\")\n",
    "        title_part = filename[11:].replace(\".pdf\", \"\").strip()\n",
    "\n",
    "        # Appliquer renommage manuel si trouvé\n",
    "        new_title = MANUAL_RENAMES.get(title_part, slugify(title_part))\n",
    "\n",
    "        new_filename = f\"{date_part}_{new_title}.pdf\"\n",
    "        src = os.path.join(FOLDER, filename)\n",
    "        dst = os.path.join(FOLDER, new_filename)\n",
    "\n",
    "        print(f\"Renaming: {filename} → {new_filename}\")\n",
    "        os.rename(src, dst)"
   ]
  }
 ],
 "metadata": {
  "kernelspec": {
   "display_name": "Python 3",
   "language": "python",
   "name": "python3"
  },
  "language_info": {
   "codemirror_mode": {
    "name": "ipython",
    "version": 3
   },
   "file_extension": ".py",
   "mimetype": "text/x-python",
   "name": "python",
   "nbconvert_exporter": "python",
   "pygments_lexer": "ipython3",
   "version": "3.12.11"
  }
 },
 "nbformat": 4,
 "nbformat_minor": 5
}
